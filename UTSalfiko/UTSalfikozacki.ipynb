{
 "cells": [
  {
   "cell_type": "code",
   "execution_count": 1,
   "id": "d8523bb0-87a6-40d4-bcee-33ee71b7d961",
   "metadata": {},
   "outputs": [],
   "source": [
    "# Data\n",
    "\n",
    "company_detail_list = [\n",
    "      {\n",
    "          'name': 'Company 1',\n",
    "          'domain': 'Retail',\n",
    "          'country': 'United States'\n",
    "      },\n",
    "      {\n",
    "          'name': 'Company 2',\n",
    "          'domain': 'Technology',\n",
    "          'country': 'United Kingdom'\n",
    "      },\n",
    "      {\n",
    "          'name': 'Company 3',\n",
    "          'domain': 'Healthcare',\n",
    "          'country': 'United States'\n",
    "      }\n",
    "  ]\n",
    "\n",
    "employee_detail_list = [\n",
    "     {\n",
    "          'name': 'EMP-0001',\n",
    "          'first_name': 'John',\n",
    "          'last_name': 'Doe',\n",
    "          'full_name': 'John Doe',\n",
    "          'company': 'Company 1',\n",
    "          'nationality': 'Australia'\n",
    "      },\n",
    "      {\n",
    "          'name': 'EMP-0002',\n",
    "          'first_name': 'Tom',\n",
    "          'last_name': 'Smith',\n",
    "          'full_name': 'Tom Smith',\n",
    "          'company': 'Company 2',\n",
    "          'nationality': 'United States'\n",
    "      },\n",
    "      {\n",
    "          'name': 'EMP-0003',\n",
    "          'first_name': 'Andrew',\n",
    "          'last_name': 'Sebastian',\n",
    "          'full_name': 'Andrew Sebastian',\n",
    "          'company': 'Company 3',\n",
    "          'nationality': 'United States'\n",
    "      },\n",
    "      {\n",
    "          'name': 'EMP-0005',\n",
    "          'first_name': 'Ying Han',\n",
    "          'last_name': 'Tan',\n",
    "          'full_name': 'Ying Han Tan',\n",
    "          'company': 'Company 1',\n",
    "          'nationality': 'Australia'\n",
    "      },\n",
    "      {\n",
    "          'name': 'EMP-0015',\n",
    "          'first_name': 'Kenneth',\n",
    "          'last_name': 'Ng',\n",
    "          'full_name': 'Kenneth Ng',\n",
    "          'company': 'Company 3',\n",
    "          'nationality': 'United States'\n",
    "      },\n",
    "      {\n",
    "          'name': 'EMP-0018',\n",
    "          'first_name': 'Rubby',\n",
    "          'last_name': 'Lee',\n",
    "          'full_name': 'Rubby Lee',\n",
    "          'company': 'Company 2',\n",
    "          'nationality': 'Hong Kong'\n",
    "      },\n",
    "     {\n",
    "          'name': 'EMP-0017',\n",
    "          'first_name': 'Robert',\n",
    "          'last_name': 'White',\n",
    "          'full_name': 'Robert White',\n",
    "          'company': 'Company 1',\n",
    "          'nationality': 'United Kingdom'\n",
    "      }\n",
    "  ]"
   ]
  },
  {
   "cell_type": "code",
   "execution_count": 2,
   "id": "18e88438-d953-4a44-b241-eaee06d8cbc6",
   "metadata": {},
   "outputs": [
    {
     "name": "stdout",
     "output_type": "stream",
     "text": [
      "{'name': 'Company 3'}\n",
      "{'name': 'Company 2'}\n",
      "{'name': 'Company 1'}\n"
     ]
    }
   ],
   "source": [
    "sorted_companies = [{\"name\": company[\"name\"]} for company in sorted(company_detail_list, key=lambda x: x[\"name\"], reverse=True)]\n",
    "\n",
    "for company in sorted_companies:\n",
    "    print(company)\n",
    "\n"
   ]
  },
  {
   "cell_type": "code",
   "execution_count": 3,
   "id": "99d42041-cba1-4005-954a-cb4ea6639e0c",
   "metadata": {},
   "outputs": [
    {
     "name": "stdout",
     "output_type": "stream",
     "text": [
      "Company 1: Retail (United States)\n",
      "Company 2: Technology (United Kingdom)\n",
      "Company 3: Healthcare (United States)\n"
     ]
    }
   ],
   "source": [
    "company_info = \"\\n\".join([f'{company[\"name\"]}: {company[\"domain\"]} ({company[\"country\"]})' for company in company_detail_list])\n",
    "print(company_info)\n"
   ]
  },
  {
   "cell_type": "code",
   "execution_count": 4,
   "id": "6a9f2d64-887e-4cb5-acd9-f3d2ccc2a77a",
   "metadata": {},
   "outputs": [
    {
     "name": "stdout",
     "output_type": "stream",
     "text": [
      "\"Retail\": [\n",
      "     \"John Doe\",\n",
      "     \"Ying Han Tan\",\n",
      "     \"Robert White\",\n",
      "],\n",
      "\"Technology\": [\n",
      "     \"Tom Smith\",\n",
      "     \"Rubby Lee\",\n",
      "],\n",
      "\"Healthcare\": [\n",
      "     \"Andrew Sebastian\",\n",
      "     \"Kenneth Ng\",\n",
      "],\n"
     ]
    }
   ],
   "source": [
    "from collections import defaultdict\n",
    "\n",
    "employees_by_domain = defaultdict(list)\n",
    "for employee in employee_detail_list:\n",
    "    for company in company_detail_list:\n",
    "        if employee[\"company\"] == company[\"name\"]:\n",
    "            employees_by_domain[company[\"domain\"]].append(employee[\"full_name\"])\n",
    "\n",
    "# Menampilkan hasil dengan format urutan ke bawah\n",
    "for domain, employees in employees_by_domain.items():\n",
    "    print(f'\"{domain}\": [')\n",
    "    for name in employees:\n",
    "        print(f'     \"{name}\",')\n",
    "    print(\"],\")\n"
   ]
  },
  {
   "cell_type": "code",
   "execution_count": 5,
   "id": "eec769d0-b34e-4683-947d-555a799f7b80",
   "metadata": {},
   "outputs": [
    {
     "name": "stdout",
     "output_type": "stream",
     "text": [
      "{\n",
      "    \"full_name\": \"John Doe\",\n",
      "    \"company\": \"Company 1\",\n",
      "    \"country\": \"United States\"\n",
      "},\n",
      "{\n",
      "    \"full_name\": \"Tom Smith\",\n",
      "    \"company\": \"Company 2\",\n",
      "    \"country\": \"United Kingdom\"\n",
      "},\n",
      "{\n",
      "    \"full_name\": \"Andrew Sebastian\",\n",
      "    \"company\": \"Company 3\",\n",
      "    \"country\": \"United States\"\n",
      "},\n",
      "{\n",
      "    \"full_name\": \"Ying Han Tan\",\n",
      "    \"company\": \"Company 1\",\n",
      "    \"country\": \"United States\"\n",
      "},\n",
      "{\n",
      "    \"full_name\": \"Kenneth Ng\",\n",
      "    \"company\": \"Company 3\",\n",
      "    \"country\": \"United States\"\n",
      "},\n",
      "{\n",
      "    \"full_name\": \"Rubby Lee\",\n",
      "    \"company\": \"Company 2\",\n",
      "    \"country\": \"United Kingdom\"\n",
      "},\n",
      "{\n",
      "    \"full_name\": \"Robert White\",\n",
      "    \"company\": \"Company 1\",\n",
      "    \"country\": \"United States\"\n",
      "},\n"
     ]
    }
   ],
   "source": [
    "employee_country_list = [\n",
    "    {\n",
    "        \"full_name\": employee[\"full_name\"],\n",
    "        \"company\": employee[\"company\"],\n",
    "        \"country\": next((company[\"country\"] for company in company_detail_list if company[\"name\"] == employee[\"company\"]), None)\n",
    "    }\n",
    "    for employee in employee_detail_list\n",
    "]\n",
    "\n",
    "# Menampilkan hasil dengan format ke bawah\n",
    "for item in employee_country_list:\n",
    "    print(\"{\")\n",
    "    print(f'    \"full_name\": \"{item[\"full_name\"]}\",')\n",
    "    print(f'    \"company\": \"{item[\"company\"]}\",')\n",
    "    print(f'    \"country\": \"{item[\"country\"]}\"')\n",
    "    print(\"},\")\n"
   ]
  },
  {
   "cell_type": "code",
   "execution_count": 6,
   "id": "75eef1f5-d958-4c84-bd64-cf848f018c18",
   "metadata": {},
   "outputs": [
    {
     "name": "stdout",
     "output_type": "stream",
     "text": [
      "{\n",
      "    \"company\": \"Company 1\",\n",
      "    \"employee_nationality\": {\n",
      "        \"Australia\": 2,\n",
      "        \"United Kingdom\": 1,\n",
      "    }\n",
      "},\n",
      "{\n",
      "    \"company\": \"Company 2\",\n",
      "    \"employee_nationality\": {\n",
      "        \"United States\": 1,\n",
      "        \"Hong Kong\": 1,\n",
      "    }\n",
      "},\n",
      "{\n",
      "    \"company\": \"Company 3\",\n",
      "    \"employee_nationality\": {\n",
      "        \"United States\": 2,\n",
      "    }\n",
      "},\n"
     ]
    }
   ],
   "source": [
    "from collections import Counter\n",
    "\n",
    "nationality_count_per_company = []\n",
    "for company in company_detail_list:\n",
    "    nationality_count = Counter(\n",
    "        employee[\"nationality\"] for employee in employee_detail_list if employee[\"company\"] == company[\"name\"]\n",
    "    )\n",
    "    nationality_count_per_company.append({\n",
    "        \"company\": company[\"name\"],\n",
    "        \"employee_nationality\": dict(nationality_count)\n",
    "    })\n",
    "\n",
    "# Menampilkan hasil dengan format ke bawah\n",
    "for item in nationality_count_per_company:\n",
    "    print(\"{\")\n",
    "    print(f'    \"company\": \"{item[\"company\"]}\",')\n",
    "    print('    \"employee_nationality\": {')\n",
    "    for nationality, count in item[\"employee_nationality\"].items():\n",
    "        print(f'        \"{nationality}\": {count},')\n",
    "    print(\"    }\")\n",
    "    print(\"},\")\n"
   ]
  },
  {
   "cell_type": "code",
   "execution_count": null,
   "id": "3fd290c1-6a91-4b4a-aeab-1017d9728fc8",
   "metadata": {},
   "outputs": [],
   "source": []
  }
 ],
 "metadata": {
  "kernelspec": {
   "display_name": "Python 3 (ipykernel)",
   "language": "python",
   "name": "python3"
  },
  "language_info": {
   "codemirror_mode": {
    "name": "ipython",
    "version": 3
   },
   "file_extension": ".py",
   "mimetype": "text/x-python",
   "name": "python",
   "nbconvert_exporter": "python",
   "pygments_lexer": "ipython3",
   "version": "3.12.6"
  }
 },
 "nbformat": 4,
 "nbformat_minor": 5
}
